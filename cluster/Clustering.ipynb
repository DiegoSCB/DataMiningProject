{
 "cells": [
  {
   "cell_type": "code",
   "execution_count": 1,
   "metadata": {
    "collapsed": false
   },
   "outputs": [],
   "source": [
    "import re\n",
    "import unidecode\n",
    "import nltk\n",
    "import pandas as pd"
   ]
  },
  {
   "cell_type": "code",
   "execution_count": 2,
   "metadata": {
    "collapsed": false
   },
   "outputs": [
    {
     "name": "stdout",
     "output_type": "stream",
     "text": [
      "Populating the interactive namespace from numpy and matplotlib\n"
     ]
    }
   ],
   "source": [
    "%pylab inline\n",
    "pylab.rcParams['figure.figsize'] = (17, 9)"
   ]
  },
  {
   "cell_type": "code",
   "execution_count": 3,
   "metadata": {
    "collapsed": false
   },
   "outputs": [],
   "source": [
    "stopwords = nltk.corpus.stopwords.words('english')\n",
    "stopwords.append('amp')\n",
    "stopwords.append('like')\n",
    "stopwords.append('via')\n",
    "stopwords.append('could')\n",
    "stopwords.append('must')\n",
    "stopwords.append('would')\n",
    "stopwords.append('think')"
   ]
  },
  {
   "cell_type": "code",
   "execution_count": 4,
   "metadata": {
    "collapsed": true
   },
   "outputs": [],
   "source": [
    "from nltk.stem.snowball import SnowballStemmer\n",
    "stemmer = SnowballStemmer(\"english\")"
   ]
  },
  {
   "cell_type": "markdown",
   "metadata": {},
   "source": [
    "# Loading Data"
   ]
  },
  {
   "cell_type": "code",
   "execution_count": 5,
   "metadata": {
    "collapsed": false
   },
   "outputs": [],
   "source": [
    "tweets = list()\n",
    "all_info = list()\n",
    "with open('elections_tweets_en.csv') as f:\n",
    "    lines = f.readlines()\n",
    "    for row in lines:\n",
    "        split = row.split(';')\n",
    "        if split[14] == '0':\n",
    "            tweets.append(split[15])\n",
    "            all_info.append(split)\n"
   ]
  },
  {
   "cell_type": "markdown",
   "metadata": {},
   "source": [
    "# Plot function "
   ]
  },
  {
   "cell_type": "code",
   "execution_count": 139,
   "metadata": {
    "collapsed": true
   },
   "outputs": [],
   "source": [
    "import os  # for os.path.basename\n",
    "\n",
    "import matplotlib.pyplot as plt\n",
    "import matplotlib as mpl\n",
    "from sklearn.metrics.pairwise import cosine_similarity\n",
    "from sklearn.manifold import MDS\n",
    "\n",
    "def plot_2D_clusters(data, labels, clusters_names, file, tf_idf):\n",
    "    \n",
    "    \n",
    "    xs,ys = calculate_coordinates(data, tf_idf)\n",
    "    \n",
    "    \n",
    "    \n",
    "    df = pd.DataFrame(dict(x=xs, y=ys, label=labels)) \n",
    "    \n",
    "    groups = df.groupby('label')\n",
    "\n",
    "\n",
    "    # set up plot\n",
    "    fig, ax = plt.subplots(figsize=(17, 9)) # set size\n",
    "    ax.margins(0.05) # Optional, just adds 5% padding to the autoscaling\n",
    "\n",
    "    #iterate through groups to layer the plot\n",
    "    #note that I use the cluster_name and cluster_color dicts with the 'name' lookup to return the appropriate color/label\n",
    "    for name, group in groups:\n",
    "        ax.plot(group.x, group.y, marker='o', linestyle='', ms=12, \n",
    "                label=cluster_names[name], \n",
    "                mec='none')\n",
    "        ax.set_aspect('auto')\n",
    "        ax.tick_params(\\\n",
    "            axis= 'x',          # changes apply to the x-axis\n",
    "            which='both',      # both major and minor ticks are affected\n",
    "            bottom='off',      # ticks along the bottom edge are off\n",
    "            top='off',         # ticks along the top edge are off\n",
    "            labelbottom='off')\n",
    "        ax.tick_params(\\\n",
    "            axis= 'y',         # changes apply to the y-axis\n",
    "            which='both',      # both major and minor ticks are affected\n",
    "            left='off',      # ticks along the bottom edge are off\n",
    "            top='off',         # ticks along the top edge are off\n",
    "            labelleft='off')\n",
    "\n",
    "    ax.legend(numpoints=1)  #show legend with only 1 point\n",
    "    fig.savefig('plots/'+file+'.png', dpi=fig.dpi)\n",
    "    plt.close()\n",
    "\n",
    "    \n",
    "    \n"
   ]
  },
  {
   "cell_type": "code",
   "execution_count": 141,
   "metadata": {
    "collapsed": true
   },
   "outputs": [],
   "source": [
    "def calculate_coordinates(data, tf_idf):\n",
    "    print(\"Transoforming the data\")\n",
    "    tfidf_data = tf_idf.transform(data)\n",
    "    print(\"Cosine similarity\")\n",
    "    dist = 1 - cosine_similarity(tfidf_data)\n",
    "    print(\"Creating 2D data\")\n",
    "    mds = MDS(n_components=2, dissimilarity=\"precomputed\", random_state=1)\n",
    "    pos = mds.fit_transform(dist) \n",
    "    \n",
    "    return pos[:,0], pos[:,1]"
   ]
  },
  {
   "cell_type": "code",
   "execution_count": 140,
   "metadata": {
    "collapsed": false
   },
   "outputs": [],
   "source": [
    "from __future__ import division\n",
    "import math\n",
    "from random import randint\n",
    "\n",
    "def select_samples(points, numb):\n",
    "    \n",
    "    samples = list()\n",
    "    rand_indx = set()\n",
    "    limits = dict()\n",
    "    samples = list()\n",
    "    labels = list()\n",
    "    frame = pd.DataFrame(points)\n",
    "    x = frame[0].value_counts()\n",
    "    total_samples = 0\n",
    "    \n",
    "    for key in x.keys():\n",
    "        limit = math.ceil(numb*x[key]/len(tweets))\n",
    "        if key not in limits:\n",
    "            limits[key] = 0\n",
    "        print(\"Distribution of the cluster \" + str(key)+ \" number of elements \" + str(x[key]))\n",
    "        limits[key] += limit\n",
    "        total_samples += limit\n",
    "\n",
    "    while(total_samples > 0):\n",
    "        rand = randint(0, len(tweets))\n",
    "        \n",
    "        while(rand in rand_indx or limits[points[rand]] == 0):\n",
    "            rand = randint(0, len(tweets))\n",
    "        \n",
    "        rand_indx.add(rand)\n",
    "        samples.append(tweets[rand])\n",
    "        labels.append(points[rand])\n",
    "        total_samples -= 1\n",
    "        \n",
    "    return samples,labels\n",
    "        "
   ]
  },
  {
   "cell_type": "markdown",
   "metadata": {},
   "source": [
    "# Preprocessor"
   ]
  },
  {
   "cell_type": "code",
   "execution_count": 9,
   "metadata": {
    "collapsed": true
   },
   "outputs": [],
   "source": [
    "def twitter_preprocessor(text):\n",
    "    text = unidecode.unidecode(text.lower())\n",
    "    text = normalize_candidates_names(text)\n",
    "    text = re.sub(r\"http\\S+\", \"\", text)\n",
    "    text = re.sub('[^a-zA-Z0-9 ]', '', text)\n",
    "    return text.rstrip().lstrip().strip()"
   ]
  },
  {
   "cell_type": "code",
   "execution_count": 10,
   "metadata": {
    "collapsed": false
   },
   "outputs": [],
   "source": [
    "dict_politics = {'Nathalie Arthaud': 'Arthaud', '@n_arthaud' : 'Arthaud', 'Francois Asselineau': 'Asselineau', '@UPR_Asselineau': 'Asselineau',\n",
    "       '@JCheminade' : 'Cheminade', 'Jacques Cheminade' : 'Cheminade', '@dupontaignan' : 'DupontAignan', 'Nicolas Dupont-Aignan' : 'DupontAignan',\n",
    "        'Dupont Aignan' : 'DupontAignan', 'Dupont-Aignan' : 'DupontAignan', 'Nicolas Dupont': 'DupontAignan', 'Nicolas Dupont Aignan': 'DupontAignan',\n",
    "       '@FrancoisFillon' : 'Fillon', 'Francois Fillon' : 'Fillon', 'Benoit Hamon' : 'Hamon', '@benoithamon' : 'Hamon', '@EmmanuelMacron' : 'Macron', \n",
    "        'Emmanuel Macron' : 'Macron', 'Marine Le Pen': 'LePen', 'Le Pen' : 'LePen', '@MLP_officiel' : 'LePen', '@JLMelenchon' : 'Melenchon', \n",
    "       'Jean-Luc Melenchon' : 'Melenchon', '@PhilippePoutou' : 'Poutou', 'Philippe Poutou' : 'Poutou', '@jeanlassalle' : 'Lassalle',\n",
    "       'Jean Lassalle' : 'Lassale'}\n",
    "def normalize_candidates_names(text):\n",
    "    for key in dict_politics.keys():\n",
    "        text = re.sub(key.lower(), dict_politics[key].lower(),text)\n",
    "    return text"
   ]
  },
  {
   "cell_type": "code",
   "execution_count": 104,
   "metadata": {
    "collapsed": false
   },
   "outputs": [],
   "source": [
    "def clustersTOwords(cluster_centers, terms, num_clusters):\n",
    "    cluster_names = dict()\n",
    "    order_centroids = cluster_centers.argsort()[:, ::-1] \n",
    "    for i in range(num_clusters):\n",
    "        words = 'Cluster'+str(i)+' : '\n",
    "        for ind in order_centroids[i, :10]:\n",
    "            words += terms[ind] + ','\n",
    "        cluster_names[i] = words\n",
    "        print(words)\n",
    "    return cluster_names\n"
   ]
  },
  {
   "cell_type": "markdown",
   "metadata": {},
   "source": [
    "# Tokenizer"
   ]
  },
  {
   "cell_type": "code",
   "execution_count": 11,
   "metadata": {
    "collapsed": false
   },
   "outputs": [],
   "source": [
    "def tokenize_stemmer(text):\n",
    "    stems_words = list()\n",
    "    tokens = [word for word in text.split() if len(word)>3]\n",
    "    for token in tokens:\n",
    "        if token not in stopwords:\n",
    "            if re.search('[^a-zA-Z]', token):\n",
    "                token = stemmer.stem(token)\n",
    "            stems_words.append(token)\n",
    "    return stems_words"
   ]
  },
  {
   "cell_type": "markdown",
   "metadata": {},
   "source": [
    "# TF-IDF "
   ]
  },
  {
   "cell_type": "code",
   "execution_count": 164,
   "metadata": {
    "collapsed": false
   },
   "outputs": [
    {
     "data": {
      "text/plain": [
       "235021"
      ]
     },
     "execution_count": 164,
     "metadata": {},
     "output_type": "execute_result"
    }
   ],
   "source": [
    "len(tweets)"
   ]
  },
  {
   "cell_type": "code",
   "execution_count": 28,
   "metadata": {
    "collapsed": false
   },
   "outputs": [],
   "source": [
    "from sklearn.feature_extraction.text import TfidfVectorizer\n",
    "\n",
    "tfidf_vectorizer = TfidfVectorizer(max_df = 0.9,min_df = 0.01, \n",
    "                                   stop_words=stopwords,max_features=1000,\n",
    "                                   use_idf=True, tokenizer=tokenize_stemmer,\n",
    "                                    preprocessor = twitter_preprocessor)"
   ]
  },
  {
   "cell_type": "code",
   "execution_count": 29,
   "metadata": {
    "collapsed": false
   },
   "outputs": [
    {
     "name": "stdout",
     "output_type": "stream",
     "text": [
      "Wall time: 37.3 s\n",
      "(235021, 61)\n"
     ]
    }
   ],
   "source": [
    "%time tfidf_matrix = tfidf_vectorizer.fit_transform(tweets) \n",
    "\n",
    "print(tfidf_matrix.shape)"
   ]
  },
  {
   "cell_type": "code",
   "execution_count": 30,
   "metadata": {
    "collapsed": false
   },
   "outputs": [],
   "source": [
    "terms = tfidf_vectorizer.get_feature_names()"
   ]
  },
  {
   "cell_type": "code",
   "execution_count": 15,
   "metadata": {
    "collapsed": false
   },
   "outputs": [
    {
     "name": "stdout",
     "output_type": "stream",
     "text": [
      "Wall time: 2.13 s\n"
     ]
    }
   ],
   "source": [
    "from sklearn.decomposition import PCA\n",
    "pca = PCA(n_components=2).fit(tfidf_matrix.todense())\n",
    "%time data2D = pca.transform(tfidf_matrix.todense())"
   ]
  },
  {
   "cell_type": "markdown",
   "metadata": {},
   "source": [
    "# K-Means"
   ]
  },
  {
   "cell_type": "code",
   "execution_count": 163,
   "metadata": {
    "collapsed": false
   },
   "outputs": [
    {
     "name": "stdout",
     "output_type": "stream",
     "text": [
      "Calculating K-Means for num_clusters2\n",
      "Wall time: 1min 10s\n",
      "Distribution of the cluster 1 number of elements 200665\n",
      "Distribution of the cluster 0 number of elements 34356\n",
      "Cluster0 : macron,lepen,france,french,vote,president,obama,election,people,candidate,\n",
      "Cluster1 : lepen,french,macron,france,election,presidential,trump,vote,fillon,melenchon,\n",
      "Transoforming the data\n",
      "Cosine similarity\n",
      "Creating 2D data\n",
      "Wall time: 44.9 s\n",
      "             \n",
      "             \n",
      "Calculating K-Means for num_clusters3\n",
      "Wall time: 1min 31s\n",
      "Distribution of the cluster 0 number of elements 168032\n",
      "Distribution of the cluster 2 number of elements 36378\n",
      "Distribution of the cluster 1 number of elements 30611\n",
      "Cluster0 : lepen,french,macron,france,election,presidential,trump,vote,fillon,melenchon,\n",
      "Cluster1 : lepen,france,macron,vote,president,french,trump,support,people,wins,\n",
      "Cluster2 : macron,lepen,france,french,vote,president,obama,want,election,people,\n",
      "Transoforming the data\n",
      "Cosine similarity\n",
      "Creating 2D data\n",
      "Wall time: 1min\n",
      "             \n",
      "             \n",
      "Calculating K-Means for num_clusters4\n",
      "Wall time: 1min 21s\n",
      "Distribution of the cluster 1 number of elements 120476\n",
      "Distribution of the cluster 2 number of elements 51729\n",
      "Distribution of the cluster 3 number of elements 32390\n",
      "Distribution of the cluster 0 number of elements 30426\n",
      "Cluster0 : lepen,france,vote,macron,french,trump,president,people,election,fillon,\n",
      "Cluster1 : lepen,france,macron,trump,fillon,vote,melenchon,news,president,says,\n",
      "Cluster2 : french,election,lepen,macron,presidential,candidate,debate,vote,runoff,news,\n",
      "Cluster3 : macron,lepen,france,vote,president,obama,french,paris,debate,candidate,\n",
      "Transoforming the data\n",
      "Cosine similarity\n",
      "Creating 2D data\n",
      "Wall time: 53.3 s\n",
      "             \n",
      "             \n",
      "Calculating K-Means for num_clusters5\n",
      "Wall time: 1min 33s\n",
      "Distribution of the cluster 3 number of elements 94597\n",
      "Distribution of the cluster 2 number of elements 48881\n",
      "Distribution of the cluster 4 number of elements 36832\n",
      "Distribution of the cluster 0 number of elements 29568\n",
      "Distribution of the cluster 1 number of elements 25143\n",
      "Cluster0 : macron,lepen,france,vote,obama,french,president,debate,candidate,paris,\n",
      "Cluster1 : lepen,macron,vote,trump,french,election,news,candidate,france,round,\n",
      "Cluster2 : french,election,lepen,macron,presidential,candidate,debate,runoff,vote,news,\n",
      "Cluster3 : lepen,macron,trump,fillon,melenchon,vote,campaign,news,hamon,paris,\n",
      "Cluster4 : france,lepen,macron,election,vote,president,says,presidential,news,runoff,\n",
      "Transoforming the data\n",
      "Cosine similarity\n",
      "Creating 2D data\n",
      "Wall time: 1min 2s\n",
      "             \n",
      "             \n",
      "Calculating K-Means for num_clusters6\n",
      "Wall time: 1min 43s\n",
      "Distribution of the cluster 0 number of elements 89636\n",
      "Distribution of the cluster 4 number of elements 45524\n",
      "Distribution of the cluster 1 number of elements 34058\n",
      "Distribution of the cluster 3 number of elements 29517\n",
      "Distribution of the cluster 2 number of elements 25070\n",
      "Distribution of the cluster 5 number of elements 11216\n",
      "Cluster0 : lepen,macron,trump,fillon,melenchon,campaign,news,hamon,europe,paris,\n",
      "Cluster1 : france,lepen,macron,election,president,says,presidential,news,voters,runoff,\n",
      "Cluster2 : lepen,macron,trump,french,election,news,candidate,france,good,president,\n",
      "Cluster3 : macron,lepen,france,obama,french,president,debate,candidate,paris,good,\n",
      "Cluster4 : french,election,macron,lepen,presidential,candidate,debate,runoff,news,voters,\n",
      "Cluster5 : vote,lepen,macron,french,france,people,runoff,presidential,melenchon,election,\n",
      "Transoforming the data\n",
      "Cosine similarity\n",
      "Creating 2D data\n",
      "Wall time: 1min 1s\n",
      "             \n",
      "             \n",
      "Calculating K-Means for num_clusters7\n",
      "Wall time: 1min 28s\n",
      "Distribution of the cluster 2 number of elements 84627\n",
      "Distribution of the cluster 0 number of elements 43446\n",
      "Distribution of the cluster 5 number of elements 32065\n",
      "Distribution of the cluster 1 number of elements 29499\n",
      "Distribution of the cluster 3 number of elements 25013\n",
      "Distribution of the cluster 6 number of elements 10865\n",
      "Distribution of the cluster 4 number of elements 9506\n",
      "Cluster0 : french,election,macron,lepen,presidential,candidate,debate,runoff,news,obama,\n",
      "Cluster1 : macron,lepen,france,obama,french,president,candidate,debate,paris,good,\n",
      "Cluster2 : lepen,macron,trump,melenchon,news,campaign,europe,paris,hamon,party,\n",
      "Cluster3 : lepen,macron,french,election,news,candidate,france,good,president,trump,\n",
      "Cluster4 : fillon,french,election,lepen,melenchon,france,macron,presidential,candidate,voters,\n",
      "Cluster5 : france,lepen,macron,election,president,says,presidential,news,runoff,voters,\n",
      "Cluster6 : vote,lepen,macron,french,france,people,runoff,presidential,melenchon,election,\n",
      "Transoforming the data\n",
      "Cosine similarity\n",
      "Creating 2D data\n",
      "Wall time: 1min 1s\n",
      "             \n",
      "             \n"
     ]
    }
   ],
   "source": [
    "from sklearn.cluster import KMeans\n",
    "t = 'k-means'\n",
    "cluster_list = dict()\n",
    "for i in range(2,8):\n",
    "    print(\"Calculating K-Means for num_clusters\" +str(i))\n",
    "    km = KMeans(n_clusters=i)\n",
    "    \n",
    "    %time km.fit(tfidf_matrix)\n",
    "    samples,labels = select_samples(km.labels_.tolist(), 1000)\n",
    "    \n",
    "    file = t +str(i)\n",
    "    \n",
    "    cluster_list[i] = km.labels_.tolist()\n",
    "    cluster_names = clustersTOwords(km.cluster_centers_, terms, i)\n",
    "    \n",
    "    %time plot_2D_clusters(samples, labels, cluster_names, file, tfidf_vectorizer)\n",
    "    #center2D = pca.transform(km.cluster_centers_)\n",
    "    #plot_2D_clusters(data2D,center2D,i, t)\n",
    "    print(\"             \")\n",
    "    print(\"             \")"
   ]
  },
  {
   "cell_type": "markdown",
   "metadata": {},
   "source": [
    "# K-Means Clustering with SVD"
   ]
  },
  {
   "cell_type": "code",
   "execution_count": 146,
   "metadata": {
    "collapsed": false
   },
   "outputs": [
    {
     "name": "stdout",
     "output_type": "stream",
     "text": [
      "Wall time: 3.18 s\n"
     ]
    }
   ],
   "source": [
    "from sklearn.decomposition import TruncatedSVD\n",
    "from sklearn.preprocessing import Normalizer\n",
    "from sklearn.pipeline import make_pipeline\n",
    "\n",
    "svd = TruncatedSVD(30)\n",
    "normalizer = Normalizer(copy=False)\n",
    "lsa = make_pipeline(svd, normalizer)\n",
    "%time lsa_matrix = lsa.fit_transform(tfidf_matrix)"
   ]
  },
  {
   "cell_type": "code",
   "execution_count": 147,
   "metadata": {
    "collapsed": false
   },
   "outputs": [
    {
     "data": {
      "text/plain": [
       "(235021, 30)"
      ]
     },
     "execution_count": 147,
     "metadata": {},
     "output_type": "execute_result"
    }
   ],
   "source": [
    "lsa_matrix.shape"
   ]
  },
  {
   "cell_type": "code",
   "execution_count": 149,
   "metadata": {
    "collapsed": false,
    "scrolled": true
   },
   "outputs": [
    {
     "name": "stdout",
     "output_type": "stream",
     "text": [
      "Calculating K-Means with LSA for num_clusters2\n",
      "Wall time: 4.96 s\n",
      "Distribution of the cluster 1 number of elements 135344\n",
      "Distribution of the cluster 0 number of elements 99677\n",
      "Cluster0 : attack,back,brexit,c0nvey,hope,left,europe,elections,face,final,\n",
      "Cluster1 : attack,c0nvey,candidate,debate,brexit,final,campaign,euro,europe,latest,\n",
      "Transoforming the data\n",
      "Cosine similarity\n",
      "Creating 2D data\n",
      "Wall time: 50.9 s\n",
      "             \n",
      "             \n",
      "Calculating K-Means with LSA for num_clusters3\n",
      "Wall time: 8.53 s\n",
      "Distribution of the cluster 0 number of elements 148588\n",
      "Distribution of the cluster 2 number of elements 43952\n",
      "Distribution of the cluster 1 number of elements 42481\n",
      "Cluster0 : attack,brexit,c0nvey,candidate,debate,europe,final,face,euro,first,\n",
      "Cluster1 : attack,lepen,hope,french,latest,left,holocaust,elections,lead,euro,\n",
      "Cluster2 : attack,back,final,lepen,campaign,fillon,latest,macron,debate,hamon,\n",
      "Transoforming the data\n",
      "Cosine similarity\n",
      "Creating 2D data\n",
      "Wall time: 58.1 s\n",
      "             \n",
      "             \n",
      "Calculating K-Means with LSA for num_clusters4\n",
      "Wall time: 10.9 s\n",
      "Distribution of the cluster 2 number of elements 124231\n",
      "Distribution of the cluster 0 number of elements 39063\n",
      "Distribution of the cluster 1 number of elements 36906\n",
      "Distribution of the cluster 3 number of elements 34821\n",
      "Cluster0 : c0nvey,attack,final,left,lepen,latest,europe,face,hope,fillon,\n",
      "Cluster1 : attack,back,final,campaign,lepen,latest,debate,macron,fillon,hamon,\n",
      "Cluster2 : attack,brexit,candidate,c0nvey,debate,europe,final,euro,campaign,face,\n",
      "Cluster3 : attack,lepen,elections,hope,latest,campaign,face,left,french,know,\n",
      "Transoforming the data\n",
      "Cosine similarity\n",
      "Creating 2D data\n",
      "Wall time: 53.4 s\n",
      "             \n",
      "             \n",
      "Calculating K-Means with LSA for num_clusters5\n",
      "Wall time: 10.2 s\n",
      "Distribution of the cluster 2 number of elements 75845\n",
      "Distribution of the cluster 4 number of elements 50734\n",
      "Distribution of the cluster 0 number of elements 37545\n",
      "Distribution of the cluster 1 number of elements 36851\n",
      "Distribution of the cluster 3 number of elements 34046\n",
      "Cluster0 : c0nvey,attack,left,lepen,final,fillon,latest,face,know,hope,\n",
      "Cluster1 : attack,back,final,campaign,lepen,latest,debate,macron,fillon,hamon,\n",
      "Cluster2 : attack,candidate,debate,europe,campaign,final,euro,face,first,election,\n",
      "Cluster3 : attack,lepen,elections,left,hope,campaign,face,french,know,holocaust,\n",
      "Cluster4 : brexit,attack,c0nvey,back,left,fillon,final,hope,lepen,know,\n",
      "Transoforming the data\n",
      "Cosine similarity\n",
      "Creating 2D data\n",
      "Wall time: 1min\n",
      "             \n",
      "             \n",
      "Calculating K-Means with LSA for num_clusters6\n",
      "Wall time: 11.9 s\n",
      "Distribution of the cluster 3 number of elements 67549\n",
      "Distribution of the cluster 1 number of elements 49307\n",
      "Distribution of the cluster 5 number of elements 36814\n",
      "Distribution of the cluster 4 number of elements 35795\n",
      "Distribution of the cluster 2 number of elements 34025\n",
      "Distribution of the cluster 0 number of elements 11531\n",
      "Cluster0 : debate,attack,candidate,election,c0nvey,brexit,france,lepen,know,latest,\n",
      "Cluster1 : brexit,attack,c0nvey,back,left,fillon,final,hope,know,lepen,\n",
      "Cluster2 : attack,lepen,elections,left,hope,face,campaign,french,know,holocaust,\n",
      "Cluster3 : attack,candidate,campaign,europe,final,euro,face,first,elections,latest,\n",
      "Cluster4 : c0nvey,attack,left,lepen,final,fillon,latest,hope,macron,know,\n",
      "Cluster5 : attack,back,final,campaign,lepen,latest,debate,macron,fillon,hamon,\n",
      "Transoforming the data\n",
      "Cosine similarity\n",
      "Creating 2D data\n",
      "Wall time: 55.8 s\n",
      "             \n",
      "             \n",
      "Calculating K-Means with LSA for num_clusters7\n",
      "Wall time: 12.7 s\n",
      "Distribution of the cluster 4 number of elements 62366\n",
      "Distribution of the cluster 3 number of elements 46487\n",
      "Distribution of the cluster 6 number of elements 36743\n",
      "Distribution of the cluster 1 number of elements 33897\n",
      "Distribution of the cluster 5 number of elements 33022\n",
      "Distribution of the cluster 2 number of elements 11314\n",
      "Distribution of the cluster 0 number of elements 11192\n",
      "Cluster0 : election,candidate,attack,c0nvey,elections,brexit,face,europe,good,france,\n",
      "Cluster1 : attack,lepen,elections,left,hope,campaign,face,french,know,holocaust,\n",
      "Cluster2 : debate,attack,candidate,election,c0nvey,brexit,france,know,lepen,latest,\n",
      "Cluster3 : brexit,attack,c0nvey,back,left,fillon,final,euro,hope,lepen,\n",
      "Cluster4 : attack,campaign,europe,final,candidate,euro,face,first,latest,hope,\n",
      "Cluster5 : c0nvey,attack,left,lepen,fillon,final,latest,good,euro,macron,\n",
      "Cluster6 : attack,back,final,campaign,lepen,latest,debate,macron,fillon,hamon,\n",
      "Transoforming the data\n",
      "Cosine similarity\n",
      "Creating 2D data\n",
      "Wall time: 57.3 s\n",
      "             \n",
      "             \n"
     ]
    }
   ],
   "source": [
    "from sklearn.cluster import KMeans\n",
    "t = 'k-means_lsa'\n",
    "cluster_list = dict()\n",
    "for i in range(2,8):\n",
    "    print(\"Calculating K-Means with LSA for num_clusters\" +str(i))\n",
    "    km = KMeans(n_clusters=i)\n",
    "    \n",
    "    %time km.fit(lsa_matrix)\n",
    "    samples,labels = select_samples(km.labels_.tolist(), 1000)\n",
    "    \n",
    "    samples = tfidf_vectorizer.transform(samples)\n",
    "    \n",
    "    file = t +str(i)\n",
    "    \n",
    "    cluster_list[i] = km.labels_.tolist()\n",
    "    cluster_names = clustersTOwords(km.cluster_centers_, terms, i)\n",
    "    \n",
    "    %time plot_2D_clusters(samples, labels, cluster_names, file, lsa)\n",
    "    #center2D = pca.transform(km.cluster_centers_)\n",
    "    #plot_2D_clusters(data2D,center2D,i, t)\n",
    "    print(\"             \")\n",
    "    print(\"             \")"
   ]
  },
  {
   "cell_type": "markdown",
   "metadata": {},
   "source": [
    "# NMF"
   ]
  },
  {
   "cell_type": "code",
   "execution_count": 154,
   "metadata": {
    "collapsed": false
   },
   "outputs": [],
   "source": [
    "from sklearn.decomposition import NMF\n"
   ]
  },
  {
   "cell_type": "code",
   "execution_count": 161,
   "metadata": {
    "collapsed": false
   },
   "outputs": [
    {
     "name": "stdout",
     "output_type": "stream",
     "text": [
      "Calculating K-Means with NMF for num_clusters2\n",
      "Wall time: 1.81 s\n",
      "Distribution of the cluster 0 number of elements 118644\n",
      "Distribution of the cluster 1 number of elements 116377\n",
      "Topic #0:\n",
      "lepen france french election trump vote\n",
      "Topic #1:\n",
      "macron french france election presidential vote\n",
      "\n",
      "Transoforming the data\n",
      "Cosine similarity\n",
      "Creating 2D data\n",
      "Wall time: 13 s\n",
      "             \n",
      "             \n",
      "Calculating K-Means with NMF for num_clusters3\n",
      "Wall time: 1.82 s\n",
      "Distribution of the cluster 0 number of elements 84759\n",
      "Distribution of the cluster 1 number of elements 76444\n",
      "Distribution of the cluster 2 number of elements 73818\n",
      "Topic #0:\n",
      "lepen france trump vote europe paris\n",
      "Topic #1:\n",
      "macron france vote obama campaign president\n",
      "Topic #2:\n",
      "french election presidential candidate fillon debate\n",
      "\n",
      "Transoforming the data\n",
      "Cosine similarity\n",
      "Creating 2D data\n",
      "Wall time: 12.9 s\n",
      "             \n",
      "             \n",
      "Calculating K-Means with NMF for num_clusters4\n",
      "Wall time: 2.15 s\n",
      "Distribution of the cluster 2 number of elements 66675\n",
      "Distribution of the cluster 0 number of elements 66399\n",
      "Distribution of the cluster 1 number of elements 60172\n",
      "Distribution of the cluster 3 number of elements 41775\n",
      "Topic #0:\n",
      "lepen trump vote paris europe party\n",
      "Topic #1:\n",
      "macron obama campaign debate vote news\n",
      "Topic #2:\n",
      "french election presidential candidate debate fillon\n",
      "Topic #3:\n",
      "france vote president says fillon election\n",
      "\n",
      "Transoforming the data\n",
      "Cosine similarity\n",
      "Creating 2D data\n",
      "Wall time: 14.2 s\n",
      "             \n",
      "             \n",
      "Calculating K-Means with NMF for num_clusters5\n",
      "Wall time: 2.99 s\n",
      "Distribution of the cluster 0 number of elements 64672\n",
      "Distribution of the cluster 1 number of elements 58873\n",
      "Distribution of the cluster 2 number of elements 54780\n",
      "Distribution of the cluster 3 number of elements 39745\n",
      "Distribution of the cluster 4 number of elements 16951\n",
      "Topic #0:\n",
      "lepen trump vote paris europe party\n",
      "Topic #1:\n",
      "macron obama campaign debate vote news\n",
      "Topic #2:\n",
      "french election presidential candidate debate runoff\n",
      "Topic #3:\n",
      "france vote president says election news\n",
      "Topic #4:\n",
      "fillon melenchon vote hamon candidate voters\n",
      "\n",
      "Transoforming the data\n",
      "Cosine similarity\n",
      "Creating 2D data\n",
      "Wall time: 20.3 s\n",
      "             \n",
      "             \n",
      "Calculating K-Means with NMF for num_clusters6\n",
      "Wall time: 6.69 s\n",
      "Distribution of the cluster 1 number of elements 60694\n",
      "Distribution of the cluster 0 number of elements 58373\n",
      "Distribution of the cluster 2 number of elements 48297\n",
      "Distribution of the cluster 3 number of elements 37847\n",
      "Distribution of the cluster 4 number of elements 16286\n",
      "Distribution of the cluster 5 number of elements 13524\n",
      "Topic #0:\n",
      "lepen vote party paris europe realdonaldtrump\n",
      "Topic #1:\n",
      "macron obama campaign debate vote news\n",
      "Topic #2:\n",
      "french election presidential candidate debate runoff\n",
      "Topic #3:\n",
      "france vote president says election news\n",
      "Topic #4:\n",
      "fillon melenchon vote hamon voters candidate\n",
      "Topic #5:\n",
      "trump putin first brexit candidate says\n",
      "\n",
      "Transoforming the data\n",
      "Cosine similarity\n",
      "Creating 2D data\n",
      "Wall time: 24.2 s\n",
      "             \n",
      "             \n",
      "Calculating K-Means with NMF for num_clusters7\n",
      "Wall time: 3.08 s\n",
      "Distribution of the cluster 1 number of elements 59883\n",
      "Distribution of the cluster 0 number of elements 56270\n",
      "Distribution of the cluster 2 number of elements 43267\n",
      "Distribution of the cluster 3 number of elements 35150\n",
      "Distribution of the cluster 4 number of elements 15677\n",
      "Distribution of the cluster 6 number of elements 13705\n",
      "Distribution of the cluster 5 number of elements 11069\n",
      "Topic #0:\n",
      "lepen party paris europe realdonaldtrump holocaust\n",
      "Topic #1:\n",
      "macron obama campaign debate news president\n",
      "Topic #2:\n",
      "french election presidential candidate debate news\n",
      "Topic #3:\n",
      "france president says election news presidential\n",
      "Topic #4:\n",
      "fillon melenchon hamon candidate election voters\n",
      "Topic #5:\n",
      "vote melenchon people runoff french want\n",
      "Topic #6:\n",
      "trump putin first brexit candidate says\n",
      "\n",
      "Transoforming the data\n",
      "Cosine similarity\n",
      "Creating 2D data\n",
      "Wall time: 26.9 s\n",
      "             \n",
      "             \n"
     ]
    }
   ],
   "source": [
    "from sklearn.cluster import KMeans\n",
    "\n",
    "t = 'k-means_nmf'\n",
    "cluster_list = dict()\n",
    "for i in range(2,8):\n",
    "    print(\"Calculating K-Means with NMF for num_clusters\" +str(i))\n",
    "    model = NMF(n_components=i, init='nndsvda', random_state=0, max_iter = 10000)\n",
    "    %time nmf = model.fit_transform(tfidf_matrix)\n",
    "    \n",
    "    samples,labels = select_samples(nmf.argmax(axis=1), 1000)\n",
    "    \n",
    "    samples = tfidf_vectorizer.transform(samples)\n",
    "    \n",
    "    file = t +str(i)\n",
    "    \n",
    "    cluster_list[i] = nmf.argmax(axis=1)\n",
    "    cluster_names = print_top_words(model, terms, 6)\n",
    "    \n",
    "    %time plot_2D_clusters(samples, labels, cluster_names, file, model)\n",
    "\n",
    "    print(\"             \")\n",
    "    print(\"             \")"
   ]
  },
  {
   "cell_type": "code",
   "execution_count": 162,
   "metadata": {
    "collapsed": false
   },
   "outputs": [
    {
     "name": "stdout",
     "output_type": "stream",
     "text": [
      "Calculating K-Means with NMF for num_clusters2\n",
      "Wall time: 1.42 s\n",
      "Distribution of the cluster 0 number of elements 120209\n",
      "Distribution of the cluster 1 number of elements 114812\n",
      "Topic #0:\n",
      "lepen france french election trump vote\n",
      "Topic #1:\n",
      "macron french france election presidential vote\n",
      "\n",
      "Transoforming the data\n",
      "Cosine similarity\n",
      "Creating 2D data\n",
      "Wall time: 9.95 s\n",
      "             \n",
      "             \n",
      "Calculating K-Means with NMF for num_clusters3\n",
      "Wall time: 1.48 s\n",
      "Distribution of the cluster 0 number of elements 87637\n",
      "Distribution of the cluster 1 number of elements 74663\n",
      "Distribution of the cluster 2 number of elements 72721\n",
      "Topic #0:\n",
      "lepen france trump vote europe paris\n",
      "Topic #1:\n",
      "macron france vote obama campaign president\n",
      "Topic #2:\n",
      "french election presidential candidate fillon debate\n",
      "\n",
      "Transoforming the data\n",
      "Cosine similarity\n",
      "Creating 2D data\n",
      "Wall time: 13.2 s\n",
      "             \n",
      "             \n",
      "Calculating K-Means with NMF for num_clusters4\n",
      "Wall time: 1.58 s\n",
      "Distribution of the cluster 0 number of elements 67791\n",
      "Distribution of the cluster 2 number of elements 66108\n",
      "Distribution of the cluster 1 number of elements 59462\n",
      "Distribution of the cluster 3 number of elements 41660\n",
      "Topic #0:\n",
      "lepen trump vote paris europe party\n",
      "Topic #1:\n",
      "macron obama campaign debate vote news\n",
      "Topic #2:\n",
      "french election presidential candidate debate fillon\n",
      "Topic #3:\n",
      "france vote president says fillon election\n",
      "\n",
      "Transoforming the data\n",
      "Cosine similarity\n",
      "Creating 2D data\n",
      "Wall time: 15.4 s\n",
      "             \n",
      "             \n",
      "Calculating K-Means with NMF for num_clusters5\n",
      "Wall time: 3.73 s\n",
      "Distribution of the cluster 0 number of elements 66018\n",
      "Distribution of the cluster 1 number of elements 58125\n",
      "Distribution of the cluster 2 number of elements 54346\n",
      "Distribution of the cluster 3 number of elements 39614\n",
      "Distribution of the cluster 4 number of elements 16918\n",
      "Topic #0:\n",
      "lepen trump vote paris europe party\n",
      "Topic #1:\n",
      "macron obama campaign debate vote news\n",
      "Topic #2:\n",
      "french election presidential candidate debate runoff\n",
      "Topic #3:\n",
      "france vote president says election news\n",
      "Topic #4:\n",
      "fillon melenchon vote hamon voters candidate\n",
      "\n",
      "Transoforming the data\n",
      "Cosine similarity\n",
      "Creating 2D data\n",
      "Wall time: 17.4 s\n",
      "             \n",
      "             \n",
      "Calculating K-Means with NMF for num_clusters6\n",
      "Wall time: 7.77 s\n",
      "Distribution of the cluster 0 number of elements 59772\n",
      "Distribution of the cluster 1 number of elements 57190\n",
      "Distribution of the cluster 2 number of elements 50852\n",
      "Distribution of the cluster 3 number of elements 37733\n",
      "Distribution of the cluster 4 number of elements 16251\n",
      "Distribution of the cluster 5 number of elements 13223\n",
      "Topic #0:\n",
      "lepen vote party paris europe realdonaldtrump\n",
      "Topic #1:\n",
      "macron obama campaign debate vote news\n",
      "Topic #2:\n",
      "french election presidential candidate debate runoff\n",
      "Topic #3:\n",
      "france vote president says election news\n",
      "Topic #4:\n",
      "fillon melenchon vote hamon voters candidate\n",
      "Topic #5:\n",
      "trump putin first brexit candidate says\n",
      "\n",
      "Transoforming the data\n",
      "Cosine similarity\n",
      "Creating 2D data\n",
      "Wall time: 32.5 s\n",
      "             \n",
      "             \n",
      "Calculating K-Means with NMF for num_clusters7\n",
      "Wall time: 3.26 s\n",
      "Distribution of the cluster 0 number of elements 57893\n",
      "Distribution of the cluster 1 number of elements 54747\n",
      "Distribution of the cluster 2 number of elements 47537\n",
      "Distribution of the cluster 3 number of elements 35032\n",
      "Distribution of the cluster 4 number of elements 15638\n",
      "Distribution of the cluster 6 number of elements 12953\n",
      "Distribution of the cluster 5 number of elements 11221\n",
      "Topic #0:\n",
      "lepen party paris europe realdonaldtrump holocaust\n",
      "Topic #1:\n",
      "macron obama campaign debate news president\n",
      "Topic #2:\n",
      "french election presidential candidate debate news\n",
      "Topic #3:\n",
      "france president says election news presidential\n",
      "Topic #4:\n",
      "fillon melenchon hamon candidate voters election\n",
      "Topic #5:\n",
      "vote melenchon people runoff french want\n",
      "Topic #6:\n",
      "trump putin first brexit candidate says\n",
      "\n",
      "Transoforming the data\n",
      "Cosine similarity\n",
      "Creating 2D data\n",
      "Wall time: 32.9 s\n",
      "             \n",
      "             \n"
     ]
    }
   ],
   "source": [
    "from sklearn.cluster import KMeans\n",
    "\n",
    "t = 'k-means_nmf_nndsvd'\n",
    "cluster_list = dict()\n",
    "for i in range(2,8):\n",
    "    print(\"Calculating K-Means with NMF for num_clusters\" +str(i))\n",
    "    model = NMF(n_components=i, init='nndsvd', random_state=0, max_iter = 10000)\n",
    "    %time nmf = model.fit_transform(tfidf_matrix)\n",
    "    \n",
    "    samples,labels = select_samples(nmf.argmax(axis=1), 1000)\n",
    "    \n",
    "    samples = tfidf_vectorizer.transform(samples)\n",
    "    \n",
    "    file = t +str(i)\n",
    "    \n",
    "    cluster_list[i] = nmf.argmax(axis=1)\n",
    "    cluster_names = print_top_words(model, terms, 6)\n",
    "    \n",
    "    %time plot_2D_clusters(samples, labels, cluster_names, file, model)\n",
    "\n",
    "    print(\"             \")\n",
    "    print(\"             \")"
   ]
  }
 ],
 "metadata": {
  "kernelspec": {
   "display_name": "Python 3",
   "language": "python",
   "name": "python3"
  },
  "language_info": {
   "codemirror_mode": {
    "name": "ipython",
    "version": 3
   },
   "file_extension": ".py",
   "mimetype": "text/x-python",
   "name": "python",
   "nbconvert_exporter": "python",
   "pygments_lexer": "ipython3",
   "version": "3.5.3"
  }
 },
 "nbformat": 4,
 "nbformat_minor": 1
}
